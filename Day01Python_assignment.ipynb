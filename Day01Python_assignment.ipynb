{
 "cells": [
  {
   "cell_type": "code",
   "execution_count": 1,
   "id": "c1d1bb7c",
   "metadata": {},
   "outputs": [
    {
     "name": "stdout",
     "output_type": "stream",
     "text": [
      "Enter the name Kavitha \n",
      "Enter the roll number 10\n",
      "Enter the mark 98\n"
     ]
    }
   ],
   "source": [
    "# Write a Python Program to accept the details of a student like name, roll number \n",
    "# and mark and display it\n",
    "\n",
    "name=input(\"Enter the name\")\n",
    "roll_no=int(input(\"Enter the roll number\"))\n",
    "mark=int(input(\"Enter the mark\"))"
   ]
  },
  {
   "cell_type": "code",
   "execution_count": 2,
   "id": "5f3c0c95",
   "metadata": {},
   "outputs": [
    {
     "name": "stdout",
     "output_type": "stream",
     "text": [
      "Enter the temparature in Fahrenheit 41\n",
      "5.0\n"
     ]
    }
   ],
   "source": [
    "# convert temperatures from  Fahrenheit to Celsius\n",
    "\n",
    "temp_far=int(input(\"Enter the temparature in Fahrenheit\"))\n",
    "celsius=(((temp_far-32)*5)/9)\n",
    "print(celsius)\n"
   ]
  },
  {
   "cell_type": "code",
   "execution_count": 3,
   "id": "630e0491",
   "metadata": {},
   "outputs": [
    {
     "name": "stdout",
     "output_type": "stream",
     "text": [
      "Enter the first number 4\n",
      "Enter the second number 5\n",
      "product is  20\n"
     ]
    }
   ],
   "source": [
    "#  Write a Python program to accept two numbers from the user and display its product.\n",
    "\n",
    "first=int(input(\"Enter the first number\"))\n",
    "second=int(input(\"Enter the second number\"))\n",
    "product=first*second\n",
    "print(\"product is \",product)"
   ]
  },
  {
   "cell_type": "code",
   "execution_count": 4,
   "id": "32f81d6e",
   "metadata": {},
   "outputs": [
    {
     "name": "stdout",
     "output_type": "stream",
     "text": [
      "Enter the string Learn Python by Developing a Website\n",
      "Learn**Python** by Developing a **Website \n"
     ]
    }
   ],
   "source": [
    "# Write a Python program to accept a string “Learn Python by Developing a Website” \n",
    "# and display the string like “Learn**Python** by Developing a **Website**\n",
    "\n",
    "_a=input(\"Enter the string\")\n",
    "print('Learn**Python** by Developing a **Website ')"
   ]
  },
  {
   "cell_type": "code",
   "execution_count": 5,
   "id": "9ef74e7c",
   "metadata": {},
   "outputs": [
    {
     "name": "stdout",
     "output_type": "stream",
     "text": [
      "Enter the radius of circle 4\n",
      "Area= 50.26548245743669\n"
     ]
    }
   ],
   "source": [
    "# Write a Python program to accept the radius of a circle and display its area\n",
    "\n",
    "import math\n",
    "r=int(input(\"Enter the radius of circle\"))\n",
    "print('Area=',math.pi*r*r)"
   ]
  },
  {
   "cell_type": "code",
   "execution_count": 6,
   "id": "d42ae36c",
   "metadata": {},
   "outputs": [],
   "source": [
    "# Python program to insert a number to any position in a list\n",
    "\n",
    "list1=[1,2,3,4,5,6,7,8,9]\n",
    "list1.append(10)"
   ]
  },
  {
   "cell_type": "code",
   "execution_count": 7,
   "id": "09a5f9c2",
   "metadata": {},
   "outputs": [
    {
     "data": {
      "text/plain": [
       "[1, 2, 3, 4, 5, 6, 7, 8, 9, 10]"
      ]
     },
     "execution_count": 7,
     "metadata": {},
     "output_type": "execute_result"
    }
   ],
   "source": [
    "list1"
   ]
  },
  {
   "cell_type": "code",
   "execution_count": 8,
   "id": "d4eb23ae",
   "metadata": {},
   "outputs": [],
   "source": [
    "list1.insert(9,0) #  zero in 9th index"
   ]
  },
  {
   "cell_type": "code",
   "execution_count": 9,
   "id": "5c205152",
   "metadata": {},
   "outputs": [
    {
     "data": {
      "text/plain": [
       "[1, 2, 3, 4, 5, 6, 7, 8, 9, 0, 10]"
      ]
     },
     "execution_count": 9,
     "metadata": {},
     "output_type": "execute_result"
    }
   ],
   "source": [
    "list1"
   ]
  },
  {
   "cell_type": "code",
   "execution_count": 10,
   "id": "aa76e4ea",
   "metadata": {},
   "outputs": [],
   "source": [
    "# Write a program to rename a key city to a location in the following dictionary.\n",
    "\n",
    "sample_dict = { \"name\": \"John\", \"age\":5, \"salary\": 8000, \"city\": \"New York\"}\n",
    "\n",
    "sample_dict[\"Location\"]=sample_dict.pop(\"city\")\n"
   ]
  },
  {
   "cell_type": "code",
   "execution_count": 11,
   "id": "b76cdd08",
   "metadata": {},
   "outputs": [
    {
     "data": {
      "text/plain": [
       "{'name': 'John', 'age': 5, 'salary': 8000, 'Location': 'New York'}"
      ]
     },
     "execution_count": 11,
     "metadata": {},
     "output_type": "execute_result"
    }
   ],
   "source": [
    "sample_dict"
   ]
  },
  {
   "cell_type": "code",
   "execution_count": 25,
   "id": "2fe2c5a5",
   "metadata": {},
   "outputs": [],
   "source": [
    "#Write a Python program to change Brad’s salary to 8500 in the following dictionary\n",
    "\n",
    "sample_dict1 = {'emp1': {'name': 'John', 'salary': 7500},'emp2': {'name': 'Emma', 'salary': 8000},\n",
    "              'emp3': {'name': 'Brad', 'salary': 500}}\n",
    "\n",
    "sample_dict1['emp3']={'name': 'Brad', 'salary': 8500}"
   ]
  },
  {
   "cell_type": "code",
   "execution_count": 26,
   "id": "b4d4ae6f",
   "metadata": {},
   "outputs": [
    {
     "data": {
      "text/plain": [
       "{'emp1': {'name': 'John', 'salary': 7500},\n",
       " 'emp2': {'name': 'Emma', 'salary': 8000},\n",
       " 'emp3': {'name': 'Brad', 'salary': 8500}}"
      ]
     },
     "execution_count": 26,
     "metadata": {},
     "output_type": "execute_result"
    }
   ],
   "source": [
    "sample_dict1"
   ]
  },
  {
   "cell_type": "code",
   "execution_count": 27,
   "id": "4c49baa2",
   "metadata": {},
   "outputs": [],
   "source": [
    "# Write a program to copy elements 43 and 54 from the following tuple into a new tuple.Given:\n",
    "\n",
    "t1=(10, 20, 43, 54, 56, 68)\n"
   ]
  },
  {
   "cell_type": "code",
   "execution_count": 28,
   "id": "d680b1c2",
   "metadata": {},
   "outputs": [
    {
     "data": {
      "text/plain": [
       "(10, 20, 43, 54, 56, 68)"
      ]
     },
     "execution_count": 28,
     "metadata": {},
     "output_type": "execute_result"
    }
   ],
   "source": [
    "t1\n"
   ]
  },
  {
   "cell_type": "code",
   "execution_count": 29,
   "id": "f67dd0a8",
   "metadata": {},
   "outputs": [
    {
     "data": {
      "text/plain": [
       "tuple"
      ]
     },
     "execution_count": 29,
     "metadata": {},
     "output_type": "execute_result"
    }
   ],
   "source": [
    "type(t1)"
   ]
  },
  {
   "cell_type": "code",
   "execution_count": 30,
   "id": "6a277860",
   "metadata": {},
   "outputs": [
    {
     "data": {
      "text/plain": [
       "43"
      ]
     },
     "execution_count": 30,
     "metadata": {},
     "output_type": "execute_result"
    }
   ],
   "source": [
    "t1[2]"
   ]
  },
  {
   "cell_type": "code",
   "execution_count": 31,
   "id": "8a744328",
   "metadata": {},
   "outputs": [
    {
     "data": {
      "text/plain": [
       "54"
      ]
     },
     "execution_count": 31,
     "metadata": {},
     "output_type": "execute_result"
    }
   ],
   "source": [
    "t1[3]"
   ]
  },
  {
   "cell_type": "code",
   "execution_count": 32,
   "id": "40d8b084",
   "metadata": {},
   "outputs": [],
   "source": [
    "# Counts the number of occurrences of item 50 from a tuple\n",
    "tuple1 = (50, 10, 60, 70, 50,83,567,50,81)"
   ]
  },
  {
   "cell_type": "code",
   "execution_count": 33,
   "id": "8a360d10",
   "metadata": {},
   "outputs": [
    {
     "data": {
      "text/plain": [
       "3"
      ]
     },
     "execution_count": 33,
     "metadata": {},
     "output_type": "execute_result"
    }
   ],
   "source": [
    "tuple1.count(50)"
   ]
  }
 ],
 "metadata": {
  "kernelspec": {
   "display_name": "Python 3 (ipykernel)",
   "language": "python",
   "name": "python3"
  },
  "language_info": {
   "codemirror_mode": {
    "name": "ipython",
    "version": 3
   },
   "file_extension": ".py",
   "mimetype": "text/x-python",
   "name": "python",
   "nbconvert_exporter": "python",
   "pygments_lexer": "ipython3",
   "version": "3.9.7"
  }
 },
 "nbformat": 4,
 "nbformat_minor": 5
}
